{
 "cells": [
  {
   "cell_type": "markdown",
   "id": "bb97a277",
   "metadata": {},
   "source": [
    "# Clothes Fitting Prediction\n",
    "\n",
    "## Author: Spriha Ghosh\n",
    "\n",
    "![ChessUrl](https://thumbs.gfycat.com/PerfumedImmaterialBee-size_restricted.gif \"chess\")\n",
    "\n"
   ]
  },
  {
   "cell_type": "code",
   "execution_count": 1,
   "id": "8bb6066a",
   "metadata": {},
   "outputs": [],
   "source": [
    "# Regular EDA (exploratory data analysis) and plotting libraries\n",
    "import pandas as pd\n",
    "import numpy as np\n",
    "import matplotlib.pyplot as plt\n",
    "import seaborn as sns"
   ]
  },
  {
   "cell_type": "code",
   "execution_count": 2,
   "id": "a355ab87",
   "metadata": {},
   "outputs": [],
   "source": [
    "dataset = pd.read_csv(\"final_test.csv\")"
   ]
  },
  {
   "cell_type": "code",
   "execution_count": 3,
   "id": "558289c6",
   "metadata": {},
   "outputs": [
    {
     "data": {
      "text/html": [
       "<div>\n",
       "<style scoped>\n",
       "    .dataframe tbody tr th:only-of-type {\n",
       "        vertical-align: middle;\n",
       "    }\n",
       "\n",
       "    .dataframe tbody tr th {\n",
       "        vertical-align: top;\n",
       "    }\n",
       "\n",
       "    .dataframe thead th {\n",
       "        text-align: right;\n",
       "    }\n",
       "</style>\n",
       "<table border=\"1\" class=\"dataframe\">\n",
       "  <thead>\n",
       "    <tr style=\"text-align: right;\">\n",
       "      <th></th>\n",
       "      <th>weight</th>\n",
       "      <th>age</th>\n",
       "      <th>height</th>\n",
       "      <th>size</th>\n",
       "    </tr>\n",
       "  </thead>\n",
       "  <tbody>\n",
       "    <tr>\n",
       "      <th>0</th>\n",
       "      <td>62</td>\n",
       "      <td>28.0</td>\n",
       "      <td>172.72</td>\n",
       "      <td>XL</td>\n",
       "    </tr>\n",
       "    <tr>\n",
       "      <th>1</th>\n",
       "      <td>59</td>\n",
       "      <td>36.0</td>\n",
       "      <td>167.64</td>\n",
       "      <td>L</td>\n",
       "    </tr>\n",
       "    <tr>\n",
       "      <th>2</th>\n",
       "      <td>61</td>\n",
       "      <td>34.0</td>\n",
       "      <td>165.10</td>\n",
       "      <td>M</td>\n",
       "    </tr>\n",
       "    <tr>\n",
       "      <th>3</th>\n",
       "      <td>65</td>\n",
       "      <td>27.0</td>\n",
       "      <td>175.26</td>\n",
       "      <td>L</td>\n",
       "    </tr>\n",
       "    <tr>\n",
       "      <th>4</th>\n",
       "      <td>62</td>\n",
       "      <td>45.0</td>\n",
       "      <td>172.72</td>\n",
       "      <td>M</td>\n",
       "    </tr>\n",
       "  </tbody>\n",
       "</table>\n",
       "</div>"
      ],
      "text/plain": [
       "   weight   age  height size\n",
       "0      62  28.0  172.72   XL\n",
       "1      59  36.0  167.64    L\n",
       "2      61  34.0  165.10    M\n",
       "3      65  27.0  175.26    L\n",
       "4      62  45.0  172.72    M"
      ]
     },
     "execution_count": 3,
     "metadata": {},
     "output_type": "execute_result"
    }
   ],
   "source": [
    "dataset.head()"
   ]
  },
  {
   "cell_type": "code",
   "execution_count": 4,
   "id": "38773ccc",
   "metadata": {},
   "outputs": [
    {
     "name": "stdout",
     "output_type": "stream",
     "text": [
      "<class 'pandas.core.frame.DataFrame'>\n",
      "RangeIndex: 119734 entries, 0 to 119733\n",
      "Data columns (total 4 columns):\n",
      " #   Column  Non-Null Count   Dtype  \n",
      "---  ------  --------------   -----  \n",
      " 0   weight  119734 non-null  int64  \n",
      " 1   age     119477 non-null  float64\n",
      " 2   height  119404 non-null  float64\n",
      " 3   size    119734 non-null  object \n",
      "dtypes: float64(2), int64(1), object(1)\n",
      "memory usage: 3.7+ MB\n"
     ]
    }
   ],
   "source": [
    "dataset.info()"
   ]
  },
  {
   "cell_type": "code",
   "execution_count": 6,
   "id": "c8aa9fc8",
   "metadata": {},
   "outputs": [
    {
     "data": {
      "text/html": [
       "<div>\n",
       "<style scoped>\n",
       "    .dataframe tbody tr th:only-of-type {\n",
       "        vertical-align: middle;\n",
       "    }\n",
       "\n",
       "    .dataframe tbody tr th {\n",
       "        vertical-align: top;\n",
       "    }\n",
       "\n",
       "    .dataframe thead th {\n",
       "        text-align: right;\n",
       "    }\n",
       "</style>\n",
       "<table border=\"1\" class=\"dataframe\">\n",
       "  <thead>\n",
       "    <tr style=\"text-align: right;\">\n",
       "      <th></th>\n",
       "      <th>weight</th>\n",
       "      <th>age</th>\n",
       "      <th>height</th>\n",
       "    </tr>\n",
       "  </thead>\n",
       "  <tbody>\n",
       "    <tr>\n",
       "      <th>count</th>\n",
       "      <td>119734.000000</td>\n",
       "      <td>119477.000000</td>\n",
       "      <td>119404.000000</td>\n",
       "    </tr>\n",
       "    <tr>\n",
       "      <th>mean</th>\n",
       "      <td>61.756811</td>\n",
       "      <td>34.027311</td>\n",
       "      <td>165.805794</td>\n",
       "    </tr>\n",
       "    <tr>\n",
       "      <th>std</th>\n",
       "      <td>9.944863</td>\n",
       "      <td>8.149447</td>\n",
       "      <td>6.737651</td>\n",
       "    </tr>\n",
       "    <tr>\n",
       "      <th>min</th>\n",
       "      <td>22.000000</td>\n",
       "      <td>0.000000</td>\n",
       "      <td>137.160000</td>\n",
       "    </tr>\n",
       "    <tr>\n",
       "      <th>25%</th>\n",
       "      <td>55.000000</td>\n",
       "      <td>29.000000</td>\n",
       "      <td>160.020000</td>\n",
       "    </tr>\n",
       "    <tr>\n",
       "      <th>50%</th>\n",
       "      <td>61.000000</td>\n",
       "      <td>32.000000</td>\n",
       "      <td>165.100000</td>\n",
       "    </tr>\n",
       "    <tr>\n",
       "      <th>75%</th>\n",
       "      <td>67.000000</td>\n",
       "      <td>37.000000</td>\n",
       "      <td>170.180000</td>\n",
       "    </tr>\n",
       "    <tr>\n",
       "      <th>max</th>\n",
       "      <td>136.000000</td>\n",
       "      <td>117.000000</td>\n",
       "      <td>193.040000</td>\n",
       "    </tr>\n",
       "  </tbody>\n",
       "</table>\n",
       "</div>"
      ],
      "text/plain": [
       "              weight            age         height\n",
       "count  119734.000000  119477.000000  119404.000000\n",
       "mean       61.756811      34.027311     165.805794\n",
       "std         9.944863       8.149447       6.737651\n",
       "min        22.000000       0.000000     137.160000\n",
       "25%        55.000000      29.000000     160.020000\n",
       "50%        61.000000      32.000000     165.100000\n",
       "75%        67.000000      37.000000     170.180000\n",
       "max       136.000000     117.000000     193.040000"
      ]
     },
     "execution_count": 6,
     "metadata": {},
     "output_type": "execute_result"
    }
   ],
   "source": [
    "dataset.describe()"
   ]
  },
  {
   "cell_type": "code",
   "execution_count": 7,
   "id": "f7341165",
   "metadata": {},
   "outputs": [
    {
     "data": {
      "text/plain": [
       "M       29712\n",
       "S       21924\n",
       "XXXL    21359\n",
       "XL      19119\n",
       "L       17587\n",
       "XXS      9964\n",
       "XXL        69\n",
       "Name: size, dtype: int64"
      ]
     },
     "execution_count": 7,
     "metadata": {},
     "output_type": "execute_result"
    }
   ],
   "source": [
    "# Number of occurences for each size (target variable)\n",
    "dataset[\"size\"].value_counts()"
   ]
  },
  {
   "cell_type": "code",
   "execution_count": 8,
   "id": "b2a37581",
   "metadata": {},
   "outputs": [
    {
     "data": {
      "text/plain": [
       "<AxesSubplot:xlabel='size', ylabel='count'>"
      ]
     },
     "execution_count": 8,
     "metadata": {},
     "output_type": "execute_result"
    },
    {
     "data": {
      "image/png": "[encoded data removed]",
      "text/plain": [
       "<Figure size 432x288 with 1 Axes>"
      ]
     },
     "metadata": {
      "needs_background": "light"
     },
     "output_type": "display_data"
    }
   ],
   "source": [
    "# Number of occurences for each size (target variable)\n",
    "sns.countplot(x=dataset[\"size\"])"
   ]
  },
  {
   "cell_type": "markdown",
   "id": "9a9bddf6",
   "metadata": {},
   "source": [
    "#### Size 'M' seems to be the most popular\n",
    "\n",
    "![ChessUrl](https://i.pinimg.com/originals/06/a5/0e/06a50ea43ae5eebc1fed254dc9945133.gif \"chess\")"
   ]
  },
  {
   "cell_type": "code",
   "execution_count": 9,
   "id": "849db327",
   "metadata": {},
   "outputs": [
    {
     "data": {
      "text/plain": [
       "<seaborn.axisgrid.FacetGrid at 0x28c7fba5250>"
      ]
     },
     "execution_count": 9,
     "metadata": {},
     "output_type": "execute_result"
    },
    {
     "data": {
      "image/png": "[encoded data removed]",
      "text/plain": [
       "<Figure size 360x360 with 1 Axes>"
      ]
     },
     "metadata": {
      "needs_background": "light"
     },
     "output_type": "display_data"
    }
   ],
   "source": [
    "# Age distribution\n",
    "sns.displot(dataset[\"age\"])"
   ]
  },
  {
   "cell_type": "markdown",
   "id": "b45da45e",
   "metadata": {},
   "source": [
    "####  Large Fraction of population seems to be around the ages of 25 to 35 years old"
   ]
  },
  {
   "cell_type": "code",
   "execution_count": 11,
   "id": "ac63ece2",
   "metadata": {},
   "outputs": [
    {
     "data": {
      "text/plain": [
       "<seaborn.axisgrid.FacetGrid at 0x28c7fba55b0>"
      ]
     },
     "execution_count": 11,
     "metadata": {},
     "output_type": "execute_result"
    },
    {
     "data": {
      "image/png": "[encoded data removed]",
      "text/plain": [
       "<Figure size 360x360 with 1 Axes>"
      ]
     },
     "metadata": {
      "needs_background": "light"
     },
     "output_type": "display_data"
    }
   ],
   "source": [
    "# Weight distribution\n",
    "sns.displot(dataset[\"weight\"])"
   ]
  },
  {
   "cell_type": "markdown",
   "id": "f9a479e7",
   "metadata": {},
   "source": [
    "Average weight = 50kg"
   ]
  },
  {
   "cell_type": "code",
   "execution_count": 13,
   "id": "6813a2fe",
   "metadata": {},
   "outputs": [
    {
     "data": {
      "text/plain": [
       "<seaborn.axisgrid.FacetGrid at 0x28c7fbb9520>"
      ]
     },
     "execution_count": 13,
     "metadata": {},
     "output_type": "execute_result"
    },
    {
     "data": {
      "image/png": "[encoded data removed]",
      "text/plain": [
       "<Figure size 360x360 with 1 Axes>"
      ]
     },
     "metadata": {
      "needs_background": "light"
     },
     "output_type": "display_data"
    }
   ],
   "source": [
    "# height distribution\n",
    "sns.displot(dataset[\"height\"])"
   ]
  },
  {
   "cell_type": "markdown",
   "id": "bd85cd8a",
   "metadata": {},
   "source": [
    "Average Height = 160 cm"
   ]
  },
  {
   "cell_type": "code",
   "execution_count": 16,
   "id": "ceacec27",
   "metadata": {},
   "outputs": [
    {
     "data": {
      "text/html": [
       "<div>\n",
       "<style scoped>\n",
       "    .dataframe tbody tr th:only-of-type {\n",
       "        vertical-align: middle;\n",
       "    }\n",
       "\n",
       "    .dataframe tbody tr th {\n",
       "        vertical-align: top;\n",
       "    }\n",
       "\n",
       "    .dataframe thead th {\n",
       "        text-align: right;\n",
       "    }\n",
       "</style>\n",
       "<table border=\"1\" class=\"dataframe\">\n",
       "  <thead>\n",
       "    <tr style=\"text-align: right;\">\n",
       "      <th></th>\n",
       "      <th>age</th>\n",
       "      <th>height</th>\n",
       "      <th>weight</th>\n",
       "      <th>size</th>\n",
       "    </tr>\n",
       "  </thead>\n",
       "  <tbody>\n",
       "    <tr>\n",
       "      <th>0</th>\n",
       "      <td>-0.833326</td>\n",
       "      <td>0.767729</td>\n",
       "      <td>-0.660757</td>\n",
       "      <td>XL</td>\n",
       "    </tr>\n",
       "    <tr>\n",
       "      <th>24</th>\n",
       "      <td>-0.713290</td>\n",
       "      <td>1.539527</td>\n",
       "      <td>1.556338</td>\n",
       "      <td>XL</td>\n",
       "    </tr>\n",
       "    <tr>\n",
       "      <th>25</th>\n",
       "      <td>-0.353183</td>\n",
       "      <td>-1.161765</td>\n",
       "      <td>-0.291241</td>\n",
       "      <td>XL</td>\n",
       "    </tr>\n",
       "    <tr>\n",
       "      <th>28</th>\n",
       "      <td>-0.473219</td>\n",
       "      <td>-1.933562</td>\n",
       "      <td>-1.399788</td>\n",
       "      <td>XL</td>\n",
       "    </tr>\n",
       "    <tr>\n",
       "      <th>34</th>\n",
       "      <td>0.126960</td>\n",
       "      <td>-0.775866</td>\n",
       "      <td>0.447791</td>\n",
       "      <td>XL</td>\n",
       "    </tr>\n",
       "  </tbody>\n",
       "</table>\n",
       "</div>"
      ],
      "text/plain": [
       "         age    height    weight size\n",
       "0  -0.833326  0.767729 -0.660757   XL\n",
       "24 -0.713290  1.539527  1.556338   XL\n",
       "25 -0.353183 -1.161765 -0.291241   XL\n",
       "28 -0.473219 -1.933562 -1.399788   XL\n",
       "34  0.126960 -0.775866  0.447791   XL"
      ]
     },
     "execution_count": 16,
     "metadata": {},
     "output_type": "execute_result"
    }
   ],
   "source": [
    "# Removing Outliers\n",
    "dfs = []\n",
    "sizes = []\n",
    "for size_type in dataset['size'].unique():\n",
    "    sizes.append(size_type)\n",
    "    ndf = dataset[['age','height','weight']][dataset['size'] == size_type]\n",
    "    zscore = ((ndf - ndf.mean())/ndf.std())\n",
    "    dfs.append(zscore)\n",
    "    \n",
    "for i in range(len(dfs)):\n",
    "    dfs[i]['age'] = dfs[i]['age'][(dfs[i]['age']>-3) & (dfs[i]['age']<3)]\n",
    "    dfs[i]['height'] = dfs[i]['height'][(dfs[i]['height']>-3) & (dfs[i]['height']<3)]\n",
    "    dfs[i]['weight'] = dfs[i]['weight'][(dfs[i]['weight']>-3) & (dfs[i]['weight']<3)]\n",
    "\n",
    "for i in range(len(sizes)):\n",
    "    dfs[i]['size'] = sizes[i]\n",
    "dataset = pd.concat(dfs)\n",
    "dataset.head()"
   ]
  },
  {
   "cell_type": "markdown",
   "id": "bce96941",
   "metadata": {},
   "source": [
    "#### Filling Missing Values"
   ]
  },
  {
   "cell_type": "code",
   "execution_count": 18,
   "id": "5d263f1b",
   "metadata": {},
   "outputs": [
    {
     "data": {
      "text/plain": [
       "age       1678\n",
       "height     547\n",
       "weight    1069\n",
       "size         0\n",
       "dtype: int64"
      ]
     },
     "execution_count": 18,
     "metadata": {},
     "output_type": "execute_result"
    }
   ],
   "source": [
    "# Check for missing values\n",
    "dataset.isna().sum()"
   ]
  },
  {
   "cell_type": "code",
   "execution_count": 19,
   "id": "4e4d2612",
   "metadata": {},
   "outputs": [],
   "source": [
    "# Filling missing data\n",
    "dataset[\"age\"] = dataset[\"age\"].fillna(dataset['age'].median())\n",
    "dataset[\"height\"] = dataset[\"height\"].fillna(dataset['height'].median())\n",
    "dataset[\"weight\"] = dataset[\"weight\"].fillna(dataset['weight'].median())"
   ]
  },
  {
   "cell_type": "markdown",
   "id": "e767d0a5",
   "metadata": {},
   "source": [
    "![ChessUrl](https://i.gifer.com/S0sh.gif \"chess\")\n",
    "\n",
    "#### Feature Engineering"
   ]
  },
  {
   "cell_type": "code",
   "execution_count": 34,
   "id": "978e12f0",
   "metadata": {},
   "outputs": [],
   "source": [
    "from sklearn.tree import DecisionTreeClassifier\n",
    "from sklearn.preprocessing import MinMaxScaler\n",
    "from sklearn.metrics import classification_report\n",
    "from sklearn.model_selection import train_test_split\n",
    "from sklearn.linear_model import LogisticRegression\n",
    "from sklearn.neighbors import KNeighborsClassifier\n",
    "from sklearn.ensemble import RandomForestClassifier"
   ]
  },
  {
   "cell_type": "code",
   "execution_count": 24,
   "id": "49ef12b9",
   "metadata": {},
   "outputs": [
    {
     "data": {
      "text/plain": [
       "age       0\n",
       "height    0\n",
       "weight    0\n",
       "size      0\n",
       "dtype: int64"
      ]
     },
     "execution_count": 24,
     "metadata": {},
     "output_type": "execute_result"
    }
   ],
   "source": [
    "# height --> mean()\n",
    "dataset = dataset.fillna({\"height\": dataset[\"height\"].mean()})\n",
    "dataset.isnull().sum()"
   ]
  },
  {
   "cell_type": "code",
   "execution_count": 26,
   "id": "822fe86d",
   "metadata": {},
   "outputs": [],
   "source": [
    "# features & target\n",
    "features = dataset[[\"weight\",\"height\",\"age\"]]\n",
    "target = dataset['size']"
   ]
  },
  {
   "cell_type": "code",
   "execution_count": 27,
   "id": "b1cab39a",
   "metadata": {},
   "outputs": [
    {
     "data": {
      "text/plain": [
       "array([[0.38808461, 0.63334439, 0.30624267],\n",
       "       [0.7603833 , 0.76533639, 0.32797808],\n",
       "       [0.45013439, 0.30336438, 0.39318432],\n",
       "       ...,\n",
       "       [0.58537365, 0.49314121, 0.37884174],\n",
       "       [0.42081522, 0.49314121, 0.63349838],\n",
       "       [0.84866715, 0.67751528, 0.32427246]])"
      ]
     },
     "execution_count": 27,
     "metadata": {},
     "output_type": "execute_result"
    }
   ],
   "source": [
    "# feature scaling\n",
    "scaler = MinMaxScaler()\n",
    "new_features = scaler.fit_transform(features)\n",
    "new_features"
   ]
  },
  {
   "cell_type": "code",
   "execution_count": 28,
   "id": "45a849df",
   "metadata": {},
   "outputs": [],
   "source": [
    "# model & fit\n",
    "x_train, x_test, y_train, y_test = train_test_split(new_features,target,random_state=123)"
   ]
  },
  {
   "cell_type": "code",
   "execution_count": 35,
   "id": "5ee08af2",
   "metadata": {},
   "outputs": [],
   "source": [
    "# Put models in a dictionary\n",
    "models = {\"Logistic Regression\": LogisticRegression(),\n",
    "         \"KNN\": KNeighborsClassifier(),\n",
    "         \"Random Forest\": RandomForestClassifier(),\n",
    "         \"Decision Tree\": DecisionTreeClassifier()}\n",
    "\n",
    "# Create a function to fit and score models\n",
    "def fit_and_score(models, X_train, X_test, y_train, y_test):\n",
    "   \n",
    "    \"\"\"\n",
    "   Fits and evaluates given machine learning models.\n",
    "   models: a dict of different Scikit_Learn machine learning models\n",
    "   X_train: training data (no labels)\n",
    "   X_test: testing data (no labels)\n",
    "   y_train: training labels\n",
    "   y_test: test labels\n",
    "   \"\"\" \n",
    "     # Set random seed\n",
    "    np.random.seed(18)\n",
    "    # Make a dictionary to keep model scores\n",
    "    model_scores = {}\n",
    "    # Loop through models\n",
    "    for name, model in models.items():\n",
    "        # Fit model to data\n",
    "        model.fit(X_train, y_train)\n",
    "        # Evaluate model and append its score to model_scores\n",
    "        model_scores[name] = model.score(X_test, y_test)\n",
    "\n",
    "    return model_scores"
   ]
  },
  {
   "cell_type": "code",
   "execution_count": 36,
   "id": "c9c742a1",
   "metadata": {},
   "outputs": [
    {
     "name": "stdout",
     "output_type": "stream",
     "text": [
      "-------------------CLASSIFICATION REPORT--------------------\n",
      "              precision    recall  f1-score   support\n",
      "\n",
      "           L       1.00      1.00      1.00      4501\n",
      "           M       1.00      1.00      1.00      7281\n",
      "           S       1.00      1.00      1.00      5436\n",
      "          XL       1.00      1.00      1.00      4833\n",
      "         XXL       0.92      0.92      0.92        12\n",
      "         XXS       1.00      1.00      1.00      2453\n",
      "        XXXL       1.00      1.00      1.00      5418\n",
      "\n",
      "    accuracy                           1.00     29934\n",
      "   macro avg       0.99      0.99      0.99     29934\n",
      "weighted avg       1.00      1.00      1.00     29934\n",
      "\n"
     ]
    }
   ],
   "source": [
    "y_pred = model.predict(x_test)\n",
    "cr = classification_report(y_test,y_pred)\n",
    "print(\"-------------------CLASSIFICATION REPORT--------------------\")\n",
    "print(cr)"
   ]
  },
  {
   "cell_type": "markdown",
   "id": "9ab6fe70",
   "metadata": {},
   "source": [
    "## The DecisionTreeClassifier model scored highest in initial tests with 99.9749% accuracy."
   ]
  }
 ],
 "metadata": {
  "kernelspec": {
   "display_name": "Python 3",
   "language": "python",
   "name": "python3"
  },
  "language_info": {
   "codemirror_mode": {
    "name": "ipython",
    "version": 3
   },
   "file_extension": ".py",
   "mimetype": "text/x-python",
   "name": "python",
   "nbconvert_exporter": "python",
   "pygments_lexer": "ipython3",
   "version": "3.8.8"
  }
 },
 "nbformat": 4,
 "nbformat_minor": 5
}
